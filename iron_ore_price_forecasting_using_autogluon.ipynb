{
  "nbformat": 4,
  "nbformat_minor": 0,
  "metadata": {
    "colab": {
      "provenance": [],
      "gpuType": "T4",
      "collapsed_sections": [
        "K2d2BGSXhcBn",
        "G7exXYBYhhW6",
        "KL3k_NDBiEnY",
        "7SiOmjSAiW1M",
        "cyQafi23imot",
        "8JFx45EMjHHR",
        "melO2_IVjQQR",
        "rFsbnaRzjZBm",
        "ck1RfXo5jnOh"
      ]
    },
    "kernelspec": {
      "name": "python3",
      "display_name": "Python 3"
    },
    "language_info": {
      "name": "python"
    },
    "accelerator": "GPU"
  },
  "cells": [
    {
      "cell_type": "markdown",
      "source": [
        "**This project demonstrates the use of [AutoGluon](https://auto.gluon.ai/stable/index.html) : [Time Series Forecasting](auto.gluon.ai/stable/tutorials/timeseries/index.html) for forecasting iron ore prices. The workflow includes data preprocessing, feature engineering, model training, evaluation, and visualization. The results show the model's predictions and the calculated Mean Absolute Error (MAE), providing insights into the model's performance.**\n"
      ],
      "metadata": {
        "id": "L3Rb8_jsj2Is"
      }
    },
    {
      "cell_type": "markdown",
      "source": [
        "## Setup and Libraries"
      ],
      "metadata": {
        "id": "K2d2BGSXhcBn"
      }
    },
    {
      "cell_type": "code",
      "source": [
        "!pip install autogluon.timeseries\n",
        "!pip install autogluon"
      ],
      "metadata": {
        "collapsed": true,
        "id": "yHLe0rF71F76"
      },
      "execution_count": null,
      "outputs": []
    },
    {
      "cell_type": "code",
      "source": [
        "import pandas as pd\n",
        "import plotly.express as px\n",
        "import matplotlib.pyplot as plt\n",
        "import plotly.graph_objects as go\n",
        "from google.colab import drive\n",
        "from autogluon.timeseries import TimeSeriesPredictor, TimeSeriesDataFrame\n",
        "from sklearn.metrics import mean_absolute_error"
      ],
      "metadata": {
        "id": "GXHEwvyP1F4-"
      },
      "execution_count": null,
      "outputs": []
    },
    {
      "cell_type": "code",
      "source": [
        "# Google Drive'ı mount etme\n",
        "drive.mount('/content/drive')"
      ],
      "metadata": {
        "colab": {
          "base_uri": "https://localhost:8080/"
        },
        "id": "MvYbFf6t1F17",
        "outputId": "8c4ece73-bcb7-4995-aba3-91938392e55a"
      },
      "execution_count": null,
      "outputs": [
        {
          "output_type": "stream",
          "name": "stdout",
          "text": [
            "Drive already mounted at /content/drive; to attempt to forcibly remount, call drive.mount(\"/content/drive\", force_remount=True).\n"
          ]
        }
      ]
    },
    {
      "cell_type": "markdown",
      "source": [
        "## Load the Dataset and Data Preparation\n",
        "\n",
        "**Convert the 'Date' column to the required format and create necessary columns for AutoGluon.**"
      ],
      "metadata": {
        "id": "G7exXYBYhhW6"
      }
    },
    {
      "cell_type": "code",
      "source": [
        "# Load the data file\n",
        "df = pd.read_csv(\"/content/drive/MyDrive/colab driver/ore_price_single_monthly.csv\", parse_dates=['Date'])\n",
        "\n",
        "# Define the 'item_id' value as a variable\n",
        "item_id_value = 'iron_ore'\n",
        "\n",
        "# Convert the 'Date' column to only include year, month, and day\n",
        "df['timestamp'] = pd.to_datetime(df['Date'].dt.strftime('%d/%m/%Y'))\n",
        "\n",
        "# Add the 'item_id' column and assign the defined value\n",
        "df['item_id'] = item_id_value\n",
        "\n",
        "# Rename the 'Price' column to 'target'\n",
        "df = df.rename(columns={'Price': 'target'})\n",
        "\n",
        "# Select and arrange the necessary columns\n",
        "df = df[['item_id', 'timestamp', 'target']]"
      ],
      "metadata": {
        "id": "dBt5n6c41FzC"
      },
      "execution_count": null,
      "outputs": []
    },
    {
      "cell_type": "code",
      "source": [
        "# Visualization\n",
        "fig = go.Figure(data=go.Scatter(\n",
        "    x=df['timestamp'],\n",
        "    y=df['target'],\n",
        "    mode='lines',\n",
        "    name='Iron Ore Price',\n",
        "    line=dict(width=2)))\n",
        "\n",
        "fig.update_layout(\n",
        "    title=\"Iron Ore Price over Time\",\n",
        "    xaxis_title=\"Date\",\n",
        "    yaxis_title=\"Price\",\n",
        "    showlegend=False,\n",
        "    xaxis_range=['2006-01-01', '2025-1-01'],)\n",
        "\n",
        "fig.show()"
      ],
      "metadata": {
        "colab": {
          "base_uri": "https://localhost:8080/",
          "height": 542
        },
        "id": "-Y7gxYuOc-5S",
        "outputId": "5eef4d4e-09ab-4777-ee33-a0adbf0e438a"
      },
      "execution_count": null,
      "outputs": [
        {
          "output_type": "display_data",
          "data": {
            "text/html": [
              "<html>\n",
              "<head><meta charset=\"utf-8\" /></head>\n",
              "<body>\n",
              "    <div>            <script src=\"https://cdnjs.cloudflare.com/ajax/libs/mathjax/2.7.5/MathJax.js?config=TeX-AMS-MML_SVG\"></script><script type=\"text/javascript\">if (window.MathJax && window.MathJax.Hub && window.MathJax.Hub.Config) {window.MathJax.Hub.Config({SVG: {font: \"STIX-Web\"}});}</script>                <script type=\"text/javascript\">window.PlotlyConfig = {MathJaxConfig: 'local'};</script>\n",
              "        <script charset=\"utf-8\" src=\"https://cdn.plot.ly/plotly-2.24.1.min.js\"></script>                <div id=\"eb2aead6-c3fd-401d-9ae2-8e2ee8a4a50c\" class=\"plotly-graph-div\" style=\"height:525px; width:100%;\"></div>            <script type=\"text/javascript\">                                    window.PLOTLYENV=window.PLOTLYENV || {};                                    if (document.getElementById(\"eb2aead6-c3fd-401d-9ae2-8e2ee8a4a50c\")) {                    Plotly.newPlot(                        \"eb2aead6-c3fd-401d-9ae2-8e2ee8a4a50c\",                        [{\"line\":{\"width\":2},\"mode\":\"lines\",\"name\":\"Iron Ore Price\",\"x\":[\"2006-01-01T00:00:00\",\"2006-02-01T00:00:00\",\"2006-03-01T00:00:00\",\"2006-04-01T00:00:00\",\"2006-05-01T00:00:00\",\"2006-06-01T00:00:00\",\"2006-07-01T00:00:00\",\"2006-08-01T00:00:00\",\"2006-09-01T00:00:00\",\"2006-10-01T00:00:00\",\"2006-11-01T00:00:00\",\"2006-12-01T00:00:00\",\"2007-01-01T00:00:00\",\"2007-02-01T00:00:00\",\"2007-03-01T00:00:00\",\"2007-04-01T00:00:00\",\"2007-05-01T00:00:00\",\"2007-06-01T00:00:00\",\"2007-07-01T00:00:00\",\"2007-08-01T00:00:00\",\"2007-09-01T00:00:00\",\"2007-10-01T00:00:00\",\"2007-11-01T00:00:00\",\"2007-12-01T00:00:00\",\"2008-01-01T00:00:00\",\"2008-02-01T00:00:00\",\"2008-03-01T00:00:00\",\"2008-04-01T00:00:00\",\"2008-05-01T00:00:00\",\"2008-06-01T00:00:00\",\"2008-07-01T00:00:00\",\"2008-08-01T00:00:00\",\"2008-09-01T00:00:00\",\"2008-10-01T00:00:00\",\"2008-11-01T00:00:00\",\"2008-12-01T00:00:00\",\"2009-01-01T00:00:00\",\"2009-02-01T00:00:00\",\"2009-03-01T00:00:00\",\"2009-04-01T00:00:00\",\"2009-05-01T00:00:00\",\"2009-06-01T00:00:00\",\"2009-07-01T00:00:00\",\"2009-08-01T00:00:00\",\"2009-09-01T00:00:00\",\"2009-10-01T00:00:00\",\"2009-11-01T00:00:00\",\"2009-12-01T00:00:00\",\"2010-01-01T00:00:00\",\"2010-02-01T00:00:00\",\"2010-03-01T00:00:00\",\"2010-04-01T00:00:00\",\"2010-05-01T00:00:00\",\"2010-06-01T00:00:00\",\"2010-07-01T00:00:00\",\"2010-08-01T00:00:00\",\"2010-09-01T00:00:00\",\"2010-10-01T00:00:00\",\"2010-11-01T00:00:00\",\"2010-12-01T00:00:00\",\"2011-01-01T00:00:00\",\"2011-02-01T00:00:00\",\"2011-03-01T00:00:00\",\"2011-04-01T00:00:00\",\"2011-05-01T00:00:00\",\"2011-06-01T00:00:00\",\"2011-07-01T00:00:00\",\"2011-08-01T00:00:00\",\"2011-09-01T00:00:00\",\"2011-10-01T00:00:00\",\"2011-11-01T00:00:00\",\"2011-12-01T00:00:00\",\"2012-01-01T00:00:00\",\"2012-02-01T00:00:00\",\"2012-03-01T00:00:00\",\"2012-04-01T00:00:00\",\"2012-05-01T00:00:00\",\"2012-06-01T00:00:00\",\"2012-07-01T00:00:00\",\"2012-08-01T00:00:00\",\"2012-09-01T00:00:00\",\"2012-10-01T00:00:00\",\"2012-11-01T00:00:00\",\"2012-12-01T00:00:00\",\"2013-01-01T00:00:00\",\"2013-02-01T00:00:00\",\"2013-03-01T00:00:00\",\"2013-04-01T00:00:00\",\"2013-05-01T00:00:00\",\"2013-06-01T00:00:00\",\"2013-07-01T00:00:00\",\"2013-08-01T00:00:00\",\"2013-09-01T00:00:00\",\"2013-10-01T00:00:00\",\"2013-11-01T00:00:00\",\"2013-12-01T00:00:00\",\"2014-01-01T00:00:00\",\"2014-02-01T00:00:00\",\"2014-03-01T00:00:00\",\"2014-04-01T00:00:00\",\"2014-05-01T00:00:00\",\"2014-06-01T00:00:00\",\"2014-07-01T00:00:00\",\"2014-08-01T00:00:00\",\"2014-09-01T00:00:00\",\"2014-10-01T00:00:00\",\"2014-11-01T00:00:00\",\"2014-12-01T00:00:00\",\"2015-01-01T00:00:00\",\"2015-02-01T00:00:00\",\"2015-03-01T00:00:00\",\"2015-04-01T00:00:00\",\"2015-05-01T00:00:00\",\"2015-06-01T00:00:00\",\"2015-07-01T00:00:00\",\"2015-08-01T00:00:00\",\"2015-09-01T00:00:00\",\"2015-10-01T00:00:00\",\"2015-11-01T00:00:00\",\"2015-12-01T00:00:00\",\"2016-01-01T00:00:00\",\"2016-02-01T00:00:00\",\"2016-03-01T00:00:00\",\"2016-04-01T00:00:00\",\"2016-05-01T00:00:00\",\"2016-06-01T00:00:00\",\"2016-07-01T00:00:00\",\"2016-08-01T00:00:00\",\"2016-09-01T00:00:00\",\"2016-10-01T00:00:00\",\"2016-11-01T00:00:00\",\"2016-12-01T00:00:00\",\"2017-01-01T00:00:00\",\"2017-02-01T00:00:00\",\"2017-03-01T00:00:00\",\"2017-04-01T00:00:00\",\"2017-05-01T00:00:00\",\"2017-06-01T00:00:00\",\"2017-07-01T00:00:00\",\"2017-08-01T00:00:00\",\"2017-09-01T00:00:00\",\"2017-10-01T00:00:00\",\"2017-11-01T00:00:00\",\"2017-12-01T00:00:00\",\"2018-01-01T00:00:00\",\"2018-02-01T00:00:00\",\"2018-03-01T00:00:00\",\"2018-04-01T00:00:00\",\"2018-05-01T00:00:00\",\"2018-06-01T00:00:00\",\"2018-07-01T00:00:00\",\"2018-08-01T00:00:00\",\"2018-09-01T00:00:00\",\"2018-10-01T00:00:00\",\"2018-11-01T00:00:00\",\"2018-12-01T00:00:00\",\"2019-01-01T00:00:00\",\"2019-02-01T00:00:00\",\"2019-03-01T00:00:00\",\"2019-04-01T00:00:00\",\"2019-05-01T00:00:00\",\"2019-06-01T00:00:00\",\"2019-07-01T00:00:00\",\"2019-08-01T00:00:00\",\"2019-09-01T00:00:00\",\"2019-10-01T00:00:00\",\"2019-11-01T00:00:00\",\"2019-12-01T00:00:00\",\"2020-01-01T00:00:00\",\"2020-02-01T00:00:00\",\"2020-03-01T00:00:00\",\"2020-04-01T00:00:00\",\"2020-05-01T00:00:00\",\"2020-06-01T00:00:00\",\"2020-07-01T00:00:00\",\"2020-08-01T00:00:00\",\"2020-09-01T00:00:00\",\"2020-10-01T00:00:00\",\"2020-11-01T00:00:00\",\"2020-12-01T00:00:00\",\"2021-01-01T00:00:00\",\"2021-02-01T00:00:00\",\"2021-03-01T00:00:00\",\"2021-04-01T00:00:00\",\"2021-05-01T00:00:00\",\"2021-06-01T00:00:00\",\"2021-07-01T00:00:00\",\"2021-08-01T00:00:00\",\"2021-09-01T00:00:00\",\"2021-10-01T00:00:00\",\"2021-11-01T00:00:00\",\"2021-12-01T00:00:00\",\"2022-01-01T00:00:00\",\"2022-02-01T00:00:00\",\"2022-03-01T00:00:00\",\"2022-04-01T00:00:00\",\"2022-05-01T00:00:00\",\"2022-06-01T00:00:00\",\"2022-07-01T00:00:00\",\"2022-08-01T00:00:00\",\"2022-09-01T00:00:00\",\"2022-10-01T00:00:00\",\"2022-11-01T00:00:00\",\"2022-12-01T00:00:00\",\"2023-01-01T00:00:00\",\"2023-02-01T00:00:00\",\"2023-03-01T00:00:00\",\"2023-04-01T00:00:00\",\"2023-05-01T00:00:00\",\"2023-06-01T00:00:00\",\"2023-07-01T00:00:00\",\"2023-08-01T00:00:00\",\"2023-09-01T00:00:00\",\"2023-10-01T00:00:00\",\"2023-11-01T00:00:00\",\"2023-12-01T00:00:00\",\"2024-01-01T00:00:00\",\"2024-02-01T00:00:00\",\"2024-03-01T00:00:00\",\"2024-04-01T00:00:00\",\"2024-05-01T00:00:00\",\"2024-06-01T00:00:00\"],\"y\":[67.0,65.0,67.0,67.0,67.0,69.0,71.0,70.0,70.0,72.0,74.0,74.0,78.0,83.0,89.0,91.0,102.0,103.0,106.0,122.0,149.0,168.0,195.0,190.0,193.0,186.0,197.0,196.0,193.0,184.0,181.0,179.0,140.0,89.0,65.0,70.0,72.51,75.59,64.07,59.78,62.69,71.66,83.95,97.67,80.71,86.79,99.26,105.25,125.91,127.62,139.77,172.47,161.35,143.63,126.36,145.34,140.63,148.48,160.55,168.53,179.63,187.18,169.36,179.26,177.1,170.88,172.98,177.45,177.23,150.43,135.54,136.46,140.35,140.4,144.66,147.65,136.27,134.62,127.94,107.8,99.47,113.95,120.35,128.87,150.49,154.64,139.87,137.39,124.01,114.82,127.19,137.06,134.19,132.57,136.32,135.79,128.12,121.37,111.83,114.58,100.56,92.85,96.26,94.14,84.52,81.3,74.43,68.67,69.07,63.8,58.18,52.11,60.43,61.84,52.17,57.33,56.98,53.66,47.19,40.88,42.2,46.49,56.54,60.97,55.89,52.34,57.31,60.87,57.66,58.95,74.14,79.43,80.82,88.95,87.2,70.4,61.63,57.86,66.74,74.59,69.24,61.05,63.41,71.74,75.78,77.65,71.32,66.33,66.63,66.86,67.05,68.02,68.8,72.02,72.3,68.9,75.2,87.59,87.07,94.5,101.76,109.55,119.59,93.5,92.26,88.59,82.9,90.98,95.22,87.63,88.66,83.75,91.33,103.34,108.02,120.07,123.0,119.25,123.52,153.07,166.74,162.33,166.74,178.25,202.86,215.82,214.34,162.09,113.72,114.48,90.13,110.46,133.05,139.7,147.35,146.67,131.09,131.05,109.05,109.07,100.84,94.62,94.57,111.41,122.43,127.08,127.98,117.13,104.52,113.09,113.98,109.61,120.43,118.75,131.25,137.55,136.5869565,125.9285714,110.1904762,112.2272727,119.2391304,108.1],\"type\":\"scatter\"}],                        {\"template\":{\"data\":{\"histogram2dcontour\":[{\"type\":\"histogram2dcontour\",\"colorbar\":{\"outlinewidth\":0,\"ticks\":\"\"},\"colorscale\":[[0.0,\"#0d0887\"],[0.1111111111111111,\"#46039f\"],[0.2222222222222222,\"#7201a8\"],[0.3333333333333333,\"#9c179e\"],[0.4444444444444444,\"#bd3786\"],[0.5555555555555556,\"#d8576b\"],[0.6666666666666666,\"#ed7953\"],[0.7777777777777778,\"#fb9f3a\"],[0.8888888888888888,\"#fdca26\"],[1.0,\"#f0f921\"]]}],\"choropleth\":[{\"type\":\"choropleth\",\"colorbar\":{\"outlinewidth\":0,\"ticks\":\"\"}}],\"histogram2d\":[{\"type\":\"histogram2d\",\"colorbar\":{\"outlinewidth\":0,\"ticks\":\"\"},\"colorscale\":[[0.0,\"#0d0887\"],[0.1111111111111111,\"#46039f\"],[0.2222222222222222,\"#7201a8\"],[0.3333333333333333,\"#9c179e\"],[0.4444444444444444,\"#bd3786\"],[0.5555555555555556,\"#d8576b\"],[0.6666666666666666,\"#ed7953\"],[0.7777777777777778,\"#fb9f3a\"],[0.8888888888888888,\"#fdca26\"],[1.0,\"#f0f921\"]]}],\"heatmap\":[{\"type\":\"heatmap\",\"colorbar\":{\"outlinewidth\":0,\"ticks\":\"\"},\"colorscale\":[[0.0,\"#0d0887\"],[0.1111111111111111,\"#46039f\"],[0.2222222222222222,\"#7201a8\"],[0.3333333333333333,\"#9c179e\"],[0.4444444444444444,\"#bd3786\"],[0.5555555555555556,\"#d8576b\"],[0.6666666666666666,\"#ed7953\"],[0.7777777777777778,\"#fb9f3a\"],[0.8888888888888888,\"#fdca26\"],[1.0,\"#f0f921\"]]}],\"heatmapgl\":[{\"type\":\"heatmapgl\",\"colorbar\":{\"outlinewidth\":0,\"ticks\":\"\"},\"colorscale\":[[0.0,\"#0d0887\"],[0.1111111111111111,\"#46039f\"],[0.2222222222222222,\"#7201a8\"],[0.3333333333333333,\"#9c179e\"],[0.4444444444444444,\"#bd3786\"],[0.5555555555555556,\"#d8576b\"],[0.6666666666666666,\"#ed7953\"],[0.7777777777777778,\"#fb9f3a\"],[0.8888888888888888,\"#fdca26\"],[1.0,\"#f0f921\"]]}],\"contourcarpet\":[{\"type\":\"contourcarpet\",\"colorbar\":{\"outlinewidth\":0,\"ticks\":\"\"}}],\"contour\":[{\"type\":\"contour\",\"colorbar\":{\"outlinewidth\":0,\"ticks\":\"\"},\"colorscale\":[[0.0,\"#0d0887\"],[0.1111111111111111,\"#46039f\"],[0.2222222222222222,\"#7201a8\"],[0.3333333333333333,\"#9c179e\"],[0.4444444444444444,\"#bd3786\"],[0.5555555555555556,\"#d8576b\"],[0.6666666666666666,\"#ed7953\"],[0.7777777777777778,\"#fb9f3a\"],[0.8888888888888888,\"#fdca26\"],[1.0,\"#f0f921\"]]}],\"surface\":[{\"type\":\"surface\",\"colorbar\":{\"outlinewidth\":0,\"ticks\":\"\"},\"colorscale\":[[0.0,\"#0d0887\"],[0.1111111111111111,\"#46039f\"],[0.2222222222222222,\"#7201a8\"],[0.3333333333333333,\"#9c179e\"],[0.4444444444444444,\"#bd3786\"],[0.5555555555555556,\"#d8576b\"],[0.6666666666666666,\"#ed7953\"],[0.7777777777777778,\"#fb9f3a\"],[0.8888888888888888,\"#fdca26\"],[1.0,\"#f0f921\"]]}],\"mesh3d\":[{\"type\":\"mesh3d\",\"colorbar\":{\"outlinewidth\":0,\"ticks\":\"\"}}],\"scatter\":[{\"fillpattern\":{\"fillmode\":\"overlay\",\"size\":10,\"solidity\":0.2},\"type\":\"scatter\"}],\"parcoords\":[{\"type\":\"parcoords\",\"line\":{\"colorbar\":{\"outlinewidth\":0,\"ticks\":\"\"}}}],\"scatterpolargl\":[{\"type\":\"scatterpolargl\",\"marker\":{\"colorbar\":{\"outlinewidth\":0,\"ticks\":\"\"}}}],\"bar\":[{\"error_x\":{\"color\":\"#2a3f5f\"},\"error_y\":{\"color\":\"#2a3f5f\"},\"marker\":{\"line\":{\"color\":\"#E5ECF6\",\"width\":0.5},\"pattern\":{\"fillmode\":\"overlay\",\"size\":10,\"solidity\":0.2}},\"type\":\"bar\"}],\"scattergeo\":[{\"type\":\"scattergeo\",\"marker\":{\"colorbar\":{\"outlinewidth\":0,\"ticks\":\"\"}}}],\"scatterpolar\":[{\"type\":\"scatterpolar\",\"marker\":{\"colorbar\":{\"outlinewidth\":0,\"ticks\":\"\"}}}],\"histogram\":[{\"marker\":{\"pattern\":{\"fillmode\":\"overlay\",\"size\":10,\"solidity\":0.2}},\"type\":\"histogram\"}],\"scattergl\":[{\"type\":\"scattergl\",\"marker\":{\"colorbar\":{\"outlinewidth\":0,\"ticks\":\"\"}}}],\"scatter3d\":[{\"type\":\"scatter3d\",\"line\":{\"colorbar\":{\"outlinewidth\":0,\"ticks\":\"\"}},\"marker\":{\"colorbar\":{\"outlinewidth\":0,\"ticks\":\"\"}}}],\"scattermapbox\":[{\"type\":\"scattermapbox\",\"marker\":{\"colorbar\":{\"outlinewidth\":0,\"ticks\":\"\"}}}],\"scatterternary\":[{\"type\":\"scatterternary\",\"marker\":{\"colorbar\":{\"outlinewidth\":0,\"ticks\":\"\"}}}],\"scattercarpet\":[{\"type\":\"scattercarpet\",\"marker\":{\"colorbar\":{\"outlinewidth\":0,\"ticks\":\"\"}}}],\"carpet\":[{\"aaxis\":{\"endlinecolor\":\"#2a3f5f\",\"gridcolor\":\"white\",\"linecolor\":\"white\",\"minorgridcolor\":\"white\",\"startlinecolor\":\"#2a3f5f\"},\"baxis\":{\"endlinecolor\":\"#2a3f5f\",\"gridcolor\":\"white\",\"linecolor\":\"white\",\"minorgridcolor\":\"white\",\"startlinecolor\":\"#2a3f5f\"},\"type\":\"carpet\"}],\"table\":[{\"cells\":{\"fill\":{\"color\":\"#EBF0F8\"},\"line\":{\"color\":\"white\"}},\"header\":{\"fill\":{\"color\":\"#C8D4E3\"},\"line\":{\"color\":\"white\"}},\"type\":\"table\"}],\"barpolar\":[{\"marker\":{\"line\":{\"color\":\"#E5ECF6\",\"width\":0.5},\"pattern\":{\"fillmode\":\"overlay\",\"size\":10,\"solidity\":0.2}},\"type\":\"barpolar\"}],\"pie\":[{\"automargin\":true,\"type\":\"pie\"}]},\"layout\":{\"autotypenumbers\":\"strict\",\"colorway\":[\"#636efa\",\"#EF553B\",\"#00cc96\",\"#ab63fa\",\"#FFA15A\",\"#19d3f3\",\"#FF6692\",\"#B6E880\",\"#FF97FF\",\"#FECB52\"],\"font\":{\"color\":\"#2a3f5f\"},\"hovermode\":\"closest\",\"hoverlabel\":{\"align\":\"left\"},\"paper_bgcolor\":\"white\",\"plot_bgcolor\":\"#E5ECF6\",\"polar\":{\"bgcolor\":\"#E5ECF6\",\"angularaxis\":{\"gridcolor\":\"white\",\"linecolor\":\"white\",\"ticks\":\"\"},\"radialaxis\":{\"gridcolor\":\"white\",\"linecolor\":\"white\",\"ticks\":\"\"}},\"ternary\":{\"bgcolor\":\"#E5ECF6\",\"aaxis\":{\"gridcolor\":\"white\",\"linecolor\":\"white\",\"ticks\":\"\"},\"baxis\":{\"gridcolor\":\"white\",\"linecolor\":\"white\",\"ticks\":\"\"},\"caxis\":{\"gridcolor\":\"white\",\"linecolor\":\"white\",\"ticks\":\"\"}},\"coloraxis\":{\"colorbar\":{\"outlinewidth\":0,\"ticks\":\"\"}},\"colorscale\":{\"sequential\":[[0.0,\"#0d0887\"],[0.1111111111111111,\"#46039f\"],[0.2222222222222222,\"#7201a8\"],[0.3333333333333333,\"#9c179e\"],[0.4444444444444444,\"#bd3786\"],[0.5555555555555556,\"#d8576b\"],[0.6666666666666666,\"#ed7953\"],[0.7777777777777778,\"#fb9f3a\"],[0.8888888888888888,\"#fdca26\"],[1.0,\"#f0f921\"]],\"sequentialminus\":[[0.0,\"#0d0887\"],[0.1111111111111111,\"#46039f\"],[0.2222222222222222,\"#7201a8\"],[0.3333333333333333,\"#9c179e\"],[0.4444444444444444,\"#bd3786\"],[0.5555555555555556,\"#d8576b\"],[0.6666666666666666,\"#ed7953\"],[0.7777777777777778,\"#fb9f3a\"],[0.8888888888888888,\"#fdca26\"],[1.0,\"#f0f921\"]],\"diverging\":[[0,\"#8e0152\"],[0.1,\"#c51b7d\"],[0.2,\"#de77ae\"],[0.3,\"#f1b6da\"],[0.4,\"#fde0ef\"],[0.5,\"#f7f7f7\"],[0.6,\"#e6f5d0\"],[0.7,\"#b8e186\"],[0.8,\"#7fbc41\"],[0.9,\"#4d9221\"],[1,\"#276419\"]]},\"xaxis\":{\"gridcolor\":\"white\",\"linecolor\":\"white\",\"ticks\":\"\",\"title\":{\"standoff\":15},\"zerolinecolor\":\"white\",\"automargin\":true,\"zerolinewidth\":2},\"yaxis\":{\"gridcolor\":\"white\",\"linecolor\":\"white\",\"ticks\":\"\",\"title\":{\"standoff\":15},\"zerolinecolor\":\"white\",\"automargin\":true,\"zerolinewidth\":2},\"scene\":{\"xaxis\":{\"backgroundcolor\":\"#E5ECF6\",\"gridcolor\":\"white\",\"linecolor\":\"white\",\"showbackground\":true,\"ticks\":\"\",\"zerolinecolor\":\"white\",\"gridwidth\":2},\"yaxis\":{\"backgroundcolor\":\"#E5ECF6\",\"gridcolor\":\"white\",\"linecolor\":\"white\",\"showbackground\":true,\"ticks\":\"\",\"zerolinecolor\":\"white\",\"gridwidth\":2},\"zaxis\":{\"backgroundcolor\":\"#E5ECF6\",\"gridcolor\":\"white\",\"linecolor\":\"white\",\"showbackground\":true,\"ticks\":\"\",\"zerolinecolor\":\"white\",\"gridwidth\":2}},\"shapedefaults\":{\"line\":{\"color\":\"#2a3f5f\"}},\"annotationdefaults\":{\"arrowcolor\":\"#2a3f5f\",\"arrowhead\":0,\"arrowwidth\":1},\"geo\":{\"bgcolor\":\"white\",\"landcolor\":\"#E5ECF6\",\"subunitcolor\":\"white\",\"showland\":true,\"showlakes\":true,\"lakecolor\":\"white\"},\"title\":{\"x\":0.05},\"mapbox\":{\"style\":\"light\"}}},\"xaxis\":{\"title\":{\"text\":\"Date\"},\"range\":[\"2006-01-01\",\"2025-1-01\"]},\"title\":{\"text\":\"Iron Ore Price over Time\"},\"yaxis\":{\"title\":{\"text\":\"Price\"}},\"showlegend\":false},                        {\"responsive\": true}                    ).then(function(){\n",
              "                            \n",
              "var gd = document.getElementById('eb2aead6-c3fd-401d-9ae2-8e2ee8a4a50c');\n",
              "var x = new MutationObserver(function (mutations, observer) {{\n",
              "        var display = window.getComputedStyle(gd).display;\n",
              "        if (!display || display === 'none') {{\n",
              "            console.log([gd, 'removed!']);\n",
              "            Plotly.purge(gd);\n",
              "            observer.disconnect();\n",
              "        }}\n",
              "}});\n",
              "\n",
              "// Listen for the removal of the full notebook cells\n",
              "var notebookContainer = gd.closest('#notebook-container');\n",
              "if (notebookContainer) {{\n",
              "    x.observe(notebookContainer, {childList: true});\n",
              "}}\n",
              "\n",
              "// Listen for the clearing of the current output cell\n",
              "var outputEl = gd.closest('.output');\n",
              "if (outputEl) {{\n",
              "    x.observe(outputEl, {childList: true});\n",
              "}}\n",
              "\n",
              "                        })                };                            </script>        </div>\n",
              "</body>\n",
              "</html>"
            ]
          },
          "metadata": {}
        }
      ]
    },
    {
      "cell_type": "code",
      "source": [
        "total_rows = df.shape[0]\n",
        "print(f\"Total number of rows in the dataset: {total_rows}\")"
      ],
      "metadata": {
        "colab": {
          "base_uri": "https://localhost:8080/"
        },
        "id": "tFaUmm_8gsHD",
        "outputId": "9d9a9c30-479f-4c55-e9dc-174bbbb5f16f"
      },
      "execution_count": null,
      "outputs": [
        {
          "output_type": "stream",
          "name": "stdout",
          "text": [
            "Total number of rows in the dataset: 222\n"
          ]
        }
      ]
    },
    {
      "cell_type": "markdown",
      "source": [
        "## Feature Engineering\n",
        "\n",
        "**Add lag features and rolling window features to capture temporal dependencies in the data.**"
      ],
      "metadata": {
        "id": "KL3k_NDBiEnY"
      }
    },
    {
      "cell_type": "code",
      "source": [
        "# Feature engineering: add lag features and rolling window features\n",
        "df['lag_1'] = df['target'].shift(1)\n",
        "df['lag_2'] = df['target'].shift(2)\n",
        "df['lag_3'] = df['target'].shift(3)\n",
        "\n",
        "df['rolling_mean_3'] = df['target'].rolling(window=3).mean()\n",
        "df['rolling_std_3'] = df['target'].rolling(window=3).std()\n",
        "\n",
        "# Drop rows with NaN values created by lag and rolling window operations\n",
        "df = df.dropna().reset_index(drop=True)\n",
        "\n",
        "# df.head(15)\n",
        "# df.tail(15)"
      ],
      "metadata": {
        "id": "uHtFv4ujEPZw"
      },
      "execution_count": null,
      "outputs": []
    },
    {
      "cell_type": "markdown",
      "source": [
        "## Convert Data for AutoGluon\n",
        "\n",
        "**Convert the prepared dataframe into the format required by AutoGluon.**"
      ],
      "metadata": {
        "id": "7SiOmjSAiW1M"
      }
    },
    {
      "cell_type": "code",
      "source": [
        "train_data = TimeSeriesDataFrame.from_data_frame(\n",
        "    df,\n",
        "    id_column=\"item_id\",\n",
        "    timestamp_column=\"timestamp\")"
      ],
      "metadata": {
        "id": "4i6B0dtAiUzW"
      },
      "execution_count": null,
      "outputs": []
    },
    {
      "cell_type": "markdown",
      "source": [
        "## Define and Train the Model\n",
        "\n",
        "**Set up and train the AutoGluon TimeSeriesPredictor with specified hyperparameters.**"
      ],
      "metadata": {
        "id": "cyQafi23imot"
      }
    },
    {
      "cell_type": "code",
      "source": [
        "# Define the model\n",
        "predictor = TimeSeriesPredictor(\n",
        "    prediction_length=36, #for a 3-year price forecast\n",
        "    freq=\"MS\",\n",
        "    path=\"autogluon-iron-ore-monthly\",\n",
        "    target=\"target\",\n",
        "    eval_metric=\"MAE\"\n",
        ")\n",
        "\n",
        "# Define the hyperparameters\n",
        "hyperparameters = {\n",
        "    \"ETS\": {\n",
        "        \"seasonal\": \"additive\",\n",
        "        \"damped_trend\": True\n",
        "    },\n",
        "    \"Theta\": {\n",
        "        \"decomposition_type\": \"multiplicative\"\n",
        "    },\n",
        "    \"DeepAR\": {\n",
        "        \"epochs\": 200,\n",
        "        \"learning_rate\": 0.00005,\n",
        "        \"num_cells\": 100,\n",
        "        \"num_layers\": 3,\n",
        "        \"dropout_rate\": 0.2,\n",
        "        \"batch_size\": 32,\n",
        "        \"early_stopping_patience\": 30\n",
        "    }\n",
        "}\n",
        "\n",
        "# Train the model\n",
        "predictor.fit(\n",
        "    train_data=train_data,\n",
        "    presets=\"high_quality\",\n",
        "    time_limit=3600,\n",
        "    hyperparameters=hyperparameters)"
      ],
      "metadata": {
        "colab": {
          "base_uri": "https://localhost:8080/"
        },
        "id": "xulFl9wc1to9",
        "outputId": "e7b4f243-274f-4ca4-f554-cc8a75a37af7"
      },
      "execution_count": null,
      "outputs": [
        {
          "output_type": "stream",
          "name": "stderr",
          "text": [
            "Warning: path already exists! This predictor may overwrite an existing predictor! path=\"autogluon-iron-ore-monthly\"\n",
            "Beginning AutoGluon training... Time limit = 3600s\n",
            "AutoGluon will save models to 'autogluon-iron-ore-monthly'\n",
            "=================== System Info ===================\n",
            "AutoGluon Version:  1.1.1\n",
            "Python Version:     3.10.12\n",
            "Operating System:   Linux\n",
            "Platform Machine:   x86_64\n",
            "Platform Version:   #1 SMP PREEMPT_DYNAMIC Thu Jun 27 21:05:47 UTC 2024\n",
            "CPU Count:          2\n",
            "GPU Count:          0\n",
            "Memory Avail:       10.35 GB / 12.67 GB (81.7%)\n",
            "Disk Space Avail:   76.21 GB / 107.72 GB (70.8%)\n",
            "===================================================\n",
            "Setting presets to: high_quality\n",
            "\n",
            "Fitting with arguments:\n",
            "{'enable_ensemble': True,\n",
            " 'eval_metric': MAE,\n",
            " 'freq': 'MS',\n",
            " 'hyperparameters': {'DeepAR': {'batch_size': 32,\n",
            "                                'dropout_rate': 0.2,\n",
            "                                'early_stopping_patience': 30,\n",
            "                                'epochs': 200,\n",
            "                                'learning_rate': 5e-05,\n",
            "                                'num_cells': 100,\n",
            "                                'num_layers': 3},\n",
            "                     'ETS': {'damped_trend': True, 'seasonal': 'additive'},\n",
            "                     'Theta': {'decomposition_type': 'multiplicative'}},\n",
            " 'known_covariates_names': [],\n",
            " 'num_val_windows': 1,\n",
            " 'prediction_length': 36,\n",
            " 'quantile_levels': [0.1, 0.2, 0.3, 0.4, 0.5, 0.6, 0.7, 0.8, 0.9],\n",
            " 'random_seed': 123,\n",
            " 'refit_every_n_windows': 1,\n",
            " 'refit_full': False,\n",
            " 'skip_model_selection': False,\n",
            " 'target': 'target',\n",
            " 'time_limit': 3600,\n",
            " 'verbosity': 2}\n",
            "\n",
            "Provided train_data has 207 rows, 1 time series. Median time series length is 207 (min=207, max=207). \n",
            "\n",
            "Provided data contains following columns:\n",
            "\ttarget: 'target'\n",
            "\tpast_covariates:\n",
            "\t\tcategorical:        []\n",
            "\t\tcontinuous (float): ['lag_1', 'lag_2', 'lag_3', 'rolling_mean_3', 'rolling_std_3']\n",
            "\n",
            "To learn how to fix incorrectly inferred types, please see documentation for TimeSeriesPredictor.fit\n",
            "\n",
            "AutoGluon will gauge predictive performance using evaluation metric: 'MAE'\n",
            "\tThis metric's sign has been flipped to adhere to being higher_is_better. The metric score can be multiplied by -1 to get the metric value.\n",
            "===================================================\n",
            "\n",
            "Starting training. Start time is 2024-07-11 16:49:03\n",
            "Models that will be trained: ['ETS', 'Theta', 'DeepAR']\n",
            "Training timeseries model ETS. Training for up to 1000.0s of the 3600.0s of remaining time.\n",
            "ETS/W0 ignores following hyperparameters: ['seasonal', 'damped_trend']. See the docstring of ETS/W0 for the list of supported hyperparameters.\n",
            "\t-93.3253      = Validation score (-MAE)\n",
            "\t0.03    s     = Training runtime\n",
            "\t0.36    s     = Validation (prediction) runtime\n",
            "Training timeseries model Theta. Training for up to 1499.8s of the 3599.5s of remaining time.\n",
            "\t-88.3928      = Validation score (-MAE)\n",
            "\t0.03    s     = Training runtime\n",
            "\t0.03    s     = Validation (prediction) runtime\n",
            "Training timeseries model DeepAR. Training for up to 2999.5s of the 3599.5s of remaining time.\n",
            "\t-28.4090      = Validation score (-MAE)\n",
            "\t158.14  s     = Training runtime\n",
            "\t0.43    s     = Validation (prediction) runtime\n",
            "Fitting simple weighted ensemble.\n",
            "\tEnsemble weights: {'DeepAR': 0.76, 'Theta': 0.24}\n",
            "\t-15.4132      = Validation score (-MAE)\n",
            "\t0.73    s     = Training runtime\n",
            "\t0.46    s     = Validation (prediction) runtime\n",
            "Training complete. Models trained: ['ETS', 'Theta', 'DeepAR', 'WeightedEnsemble']\n",
            "Total runtime: 159.86 s\n",
            "Best model: WeightedEnsemble\n",
            "Best model score: -15.4132\n"
          ]
        },
        {
          "output_type": "execute_result",
          "data": {
            "text/plain": [
              "<autogluon.timeseries.predictor.TimeSeriesPredictor at 0x7c7f1acf5060>"
            ]
          },
          "metadata": {},
          "execution_count": 139
        }
      ]
    },
    {
      "cell_type": "markdown",
      "source": [
        "---\n",
        "**Evaluation and Explanation**\n",
        "\n",
        "---\n",
        "There might be some confusion between the MAE value calculated in the model and the MAE reported by AutoGluon. AutoGluon calculates the MAE during model training using the validation set. However, the MAE value you calculate in the model represents the error between the predicted and actual values for the entire dataset.\n",
        "\n",
        "**AutoGluon Validation MAE**\n",
        "During model training, AutoGluon splits the dataset into training and validation sets. The validation set is used to evaluate the model's performance during training. The following MAE values are reported for different models:\n",
        "\n",
        "*   ETS Model: Validation MAE = 93.33\n",
        "*   Theta Model: Validation MAE = 88.39\n",
        "*   DeepAR Model: Validation MAE = 28.41\n",
        "*   Weighted Ensemble Model: Validation MAE = `15.41` (Best model)\n",
        "\n",
        "These values show the model's performance on the validation set. The Weighted Ensemble Model, which combines the predictions from DeepAR and Theta models, performed the best with the lowest validation MAE."
      ],
      "metadata": {
        "id": "6cZ0r6DQlL0E"
      }
    },
    {
      "cell_type": "markdown",
      "source": [
        "## Make Predictions\n",
        "\n",
        "Use the best model found during training to make predictions."
      ],
      "metadata": {
        "id": "8JFx45EMjHHR"
      }
    },
    {
      "cell_type": "code",
      "source": [
        "# Make predictions using the best model explicitly\n",
        "best_model = predictor.model_best\n",
        "predictions = predictor.predict(train_data, model=best_model)\n",
        "\n",
        "# Convert predictions to a pandas DataFrame format\n",
        "predictions_df = predictions.reset_index()\n",
        "\n",
        "# Convert predictions columns to merge with original data\n",
        "predictions_df = predictions_df[['item_id', 'timestamp', 'mean', '0.1', '0.9']]\n",
        "predictions_df.columns = ['item_id', 'timestamp', 'mean', 'q0.1', 'q0.9']"
      ],
      "metadata": {
        "id": "YB8MBoXkjG0E"
      },
      "execution_count": null,
      "outputs": []
    },
    {
      "cell_type": "markdown",
      "source": [
        "## Combine Predictions with Original Data\n",
        "\n",
        "Merge the predictions with the original data for comparison and visualization."
      ],
      "metadata": {
        "id": "melO2_IVjQQR"
      }
    },
    {
      "cell_type": "code",
      "source": [
        "# Merge with original data\n",
        "combined_df = pd.concat([df[['item_id', 'timestamp', 'target']],\n",
        "                         predictions_df[['item_id', 'timestamp', 'mean']].rename(columns={'mean': 'target'})],\n",
        "                        ignore_index=True)\n",
        "\n",
        "# Label the original data and predictions\n",
        "combined_df['type'] = 'actual'\n",
        "combined_df.loc[len(df):, 'type'] = 'forecast'"
      ],
      "metadata": {
        "id": "gepWa48cjQA2"
      },
      "execution_count": null,
      "outputs": []
    },
    {
      "cell_type": "markdown",
      "source": [
        "## Evaluate the Model\n",
        "\n",
        "Calculate the Mean Absolute Error (MAE) for the predictions."
      ],
      "metadata": {
        "id": "rFsbnaRzjZBm"
      }
    },
    {
      "cell_type": "code",
      "source": [
        "# Calculate MAE for the predictions (only for overlapping periods)\n",
        "overlap_period = min(len(df), len(predictions_df))\n",
        "actual = df['target'].values[-overlap_period:]\n",
        "predicted = predictions_df['mean'].values[:overlap_period]\n",
        "mae = mean_absolute_error(actual, predicted)\n",
        "mae_fig = go.Figure()\n",
        "mae_fig.add_trace(go.Indicator(mode=\"number\",value=mae,title={\"text\": \"Mean Absolute Error (MAE)\"},))\n",
        "mae_fig.update_layout(height=200)\n",
        "mae_fig.show()"
      ],
      "metadata": {
        "colab": {
          "base_uri": "https://localhost:8080/",
          "height": 217
        },
        "id": "yzK-ZwIpjXwR",
        "outputId": "0b14f6aa-a3fc-432e-ba69-892c73547cad"
      },
      "execution_count": null,
      "outputs": [
        {
          "output_type": "display_data",
          "data": {
            "text/html": [
              "<html>\n",
              "<head><meta charset=\"utf-8\" /></head>\n",
              "<body>\n",
              "    <div>            <script src=\"https://cdnjs.cloudflare.com/ajax/libs/mathjax/2.7.5/MathJax.js?config=TeX-AMS-MML_SVG\"></script><script type=\"text/javascript\">if (window.MathJax && window.MathJax.Hub && window.MathJax.Hub.Config) {window.MathJax.Hub.Config({SVG: {font: \"STIX-Web\"}});}</script>                <script type=\"text/javascript\">window.PlotlyConfig = {MathJaxConfig: 'local'};</script>\n",
              "        <script charset=\"utf-8\" src=\"https://cdn.plot.ly/plotly-2.24.1.min.js\"></script>                <div id=\"2b609d26-3944-4c57-a47c-e3d08473f645\" class=\"plotly-graph-div\" style=\"height:200px; width:100%;\"></div>            <script type=\"text/javascript\">                                    window.PLOTLYENV=window.PLOTLYENV || {};                                    if (document.getElementById(\"2b609d26-3944-4c57-a47c-e3d08473f645\")) {                    Plotly.newPlot(                        \"2b609d26-3944-4c57-a47c-e3d08473f645\",                        [{\"mode\":\"number\",\"title\":{\"text\":\"Mean Absolute Error (MAE)\"},\"value\":47.4290822166252,\"type\":\"indicator\"}],                        {\"template\":{\"data\":{\"histogram2dcontour\":[{\"type\":\"histogram2dcontour\",\"colorbar\":{\"outlinewidth\":0,\"ticks\":\"\"},\"colorscale\":[[0.0,\"#0d0887\"],[0.1111111111111111,\"#46039f\"],[0.2222222222222222,\"#7201a8\"],[0.3333333333333333,\"#9c179e\"],[0.4444444444444444,\"#bd3786\"],[0.5555555555555556,\"#d8576b\"],[0.6666666666666666,\"#ed7953\"],[0.7777777777777778,\"#fb9f3a\"],[0.8888888888888888,\"#fdca26\"],[1.0,\"#f0f921\"]]}],\"choropleth\":[{\"type\":\"choropleth\",\"colorbar\":{\"outlinewidth\":0,\"ticks\":\"\"}}],\"histogram2d\":[{\"type\":\"histogram2d\",\"colorbar\":{\"outlinewidth\":0,\"ticks\":\"\"},\"colorscale\":[[0.0,\"#0d0887\"],[0.1111111111111111,\"#46039f\"],[0.2222222222222222,\"#7201a8\"],[0.3333333333333333,\"#9c179e\"],[0.4444444444444444,\"#bd3786\"],[0.5555555555555556,\"#d8576b\"],[0.6666666666666666,\"#ed7953\"],[0.7777777777777778,\"#fb9f3a\"],[0.8888888888888888,\"#fdca26\"],[1.0,\"#f0f921\"]]}],\"heatmap\":[{\"type\":\"heatmap\",\"colorbar\":{\"outlinewidth\":0,\"ticks\":\"\"},\"colorscale\":[[0.0,\"#0d0887\"],[0.1111111111111111,\"#46039f\"],[0.2222222222222222,\"#7201a8\"],[0.3333333333333333,\"#9c179e\"],[0.4444444444444444,\"#bd3786\"],[0.5555555555555556,\"#d8576b\"],[0.6666666666666666,\"#ed7953\"],[0.7777777777777778,\"#fb9f3a\"],[0.8888888888888888,\"#fdca26\"],[1.0,\"#f0f921\"]]}],\"heatmapgl\":[{\"type\":\"heatmapgl\",\"colorbar\":{\"outlinewidth\":0,\"ticks\":\"\"},\"colorscale\":[[0.0,\"#0d0887\"],[0.1111111111111111,\"#46039f\"],[0.2222222222222222,\"#7201a8\"],[0.3333333333333333,\"#9c179e\"],[0.4444444444444444,\"#bd3786\"],[0.5555555555555556,\"#d8576b\"],[0.6666666666666666,\"#ed7953\"],[0.7777777777777778,\"#fb9f3a\"],[0.8888888888888888,\"#fdca26\"],[1.0,\"#f0f921\"]]}],\"contourcarpet\":[{\"type\":\"contourcarpet\",\"colorbar\":{\"outlinewidth\":0,\"ticks\":\"\"}}],\"contour\":[{\"type\":\"contour\",\"colorbar\":{\"outlinewidth\":0,\"ticks\":\"\"},\"colorscale\":[[0.0,\"#0d0887\"],[0.1111111111111111,\"#46039f\"],[0.2222222222222222,\"#7201a8\"],[0.3333333333333333,\"#9c179e\"],[0.4444444444444444,\"#bd3786\"],[0.5555555555555556,\"#d8576b\"],[0.6666666666666666,\"#ed7953\"],[0.7777777777777778,\"#fb9f3a\"],[0.8888888888888888,\"#fdca26\"],[1.0,\"#f0f921\"]]}],\"surface\":[{\"type\":\"surface\",\"colorbar\":{\"outlinewidth\":0,\"ticks\":\"\"},\"colorscale\":[[0.0,\"#0d0887\"],[0.1111111111111111,\"#46039f\"],[0.2222222222222222,\"#7201a8\"],[0.3333333333333333,\"#9c179e\"],[0.4444444444444444,\"#bd3786\"],[0.5555555555555556,\"#d8576b\"],[0.6666666666666666,\"#ed7953\"],[0.7777777777777778,\"#fb9f3a\"],[0.8888888888888888,\"#fdca26\"],[1.0,\"#f0f921\"]]}],\"mesh3d\":[{\"type\":\"mesh3d\",\"colorbar\":{\"outlinewidth\":0,\"ticks\":\"\"}}],\"scatter\":[{\"fillpattern\":{\"fillmode\":\"overlay\",\"size\":10,\"solidity\":0.2},\"type\":\"scatter\"}],\"parcoords\":[{\"type\":\"parcoords\",\"line\":{\"colorbar\":{\"outlinewidth\":0,\"ticks\":\"\"}}}],\"scatterpolargl\":[{\"type\":\"scatterpolargl\",\"marker\":{\"colorbar\":{\"outlinewidth\":0,\"ticks\":\"\"}}}],\"bar\":[{\"error_x\":{\"color\":\"#2a3f5f\"},\"error_y\":{\"color\":\"#2a3f5f\"},\"marker\":{\"line\":{\"color\":\"#E5ECF6\",\"width\":0.5},\"pattern\":{\"fillmode\":\"overlay\",\"size\":10,\"solidity\":0.2}},\"type\":\"bar\"}],\"scattergeo\":[{\"type\":\"scattergeo\",\"marker\":{\"colorbar\":{\"outlinewidth\":0,\"ticks\":\"\"}}}],\"scatterpolar\":[{\"type\":\"scatterpolar\",\"marker\":{\"colorbar\":{\"outlinewidth\":0,\"ticks\":\"\"}}}],\"histogram\":[{\"marker\":{\"pattern\":{\"fillmode\":\"overlay\",\"size\":10,\"solidity\":0.2}},\"type\":\"histogram\"}],\"scattergl\":[{\"type\":\"scattergl\",\"marker\":{\"colorbar\":{\"outlinewidth\":0,\"ticks\":\"\"}}}],\"scatter3d\":[{\"type\":\"scatter3d\",\"line\":{\"colorbar\":{\"outlinewidth\":0,\"ticks\":\"\"}},\"marker\":{\"colorbar\":{\"outlinewidth\":0,\"ticks\":\"\"}}}],\"scattermapbox\":[{\"type\":\"scattermapbox\",\"marker\":{\"colorbar\":{\"outlinewidth\":0,\"ticks\":\"\"}}}],\"scatterternary\":[{\"type\":\"scatterternary\",\"marker\":{\"colorbar\":{\"outlinewidth\":0,\"ticks\":\"\"}}}],\"scattercarpet\":[{\"type\":\"scattercarpet\",\"marker\":{\"colorbar\":{\"outlinewidth\":0,\"ticks\":\"\"}}}],\"carpet\":[{\"aaxis\":{\"endlinecolor\":\"#2a3f5f\",\"gridcolor\":\"white\",\"linecolor\":\"white\",\"minorgridcolor\":\"white\",\"startlinecolor\":\"#2a3f5f\"},\"baxis\":{\"endlinecolor\":\"#2a3f5f\",\"gridcolor\":\"white\",\"linecolor\":\"white\",\"minorgridcolor\":\"white\",\"startlinecolor\":\"#2a3f5f\"},\"type\":\"carpet\"}],\"table\":[{\"cells\":{\"fill\":{\"color\":\"#EBF0F8\"},\"line\":{\"color\":\"white\"}},\"header\":{\"fill\":{\"color\":\"#C8D4E3\"},\"line\":{\"color\":\"white\"}},\"type\":\"table\"}],\"barpolar\":[{\"marker\":{\"line\":{\"color\":\"#E5ECF6\",\"width\":0.5},\"pattern\":{\"fillmode\":\"overlay\",\"size\":10,\"solidity\":0.2}},\"type\":\"barpolar\"}],\"pie\":[{\"automargin\":true,\"type\":\"pie\"}]},\"layout\":{\"autotypenumbers\":\"strict\",\"colorway\":[\"#636efa\",\"#EF553B\",\"#00cc96\",\"#ab63fa\",\"#FFA15A\",\"#19d3f3\",\"#FF6692\",\"#B6E880\",\"#FF97FF\",\"#FECB52\"],\"font\":{\"color\":\"#2a3f5f\"},\"hovermode\":\"closest\",\"hoverlabel\":{\"align\":\"left\"},\"paper_bgcolor\":\"white\",\"plot_bgcolor\":\"#E5ECF6\",\"polar\":{\"bgcolor\":\"#E5ECF6\",\"angularaxis\":{\"gridcolor\":\"white\",\"linecolor\":\"white\",\"ticks\":\"\"},\"radialaxis\":{\"gridcolor\":\"white\",\"linecolor\":\"white\",\"ticks\":\"\"}},\"ternary\":{\"bgcolor\":\"#E5ECF6\",\"aaxis\":{\"gridcolor\":\"white\",\"linecolor\":\"white\",\"ticks\":\"\"},\"baxis\":{\"gridcolor\":\"white\",\"linecolor\":\"white\",\"ticks\":\"\"},\"caxis\":{\"gridcolor\":\"white\",\"linecolor\":\"white\",\"ticks\":\"\"}},\"coloraxis\":{\"colorbar\":{\"outlinewidth\":0,\"ticks\":\"\"}},\"colorscale\":{\"sequential\":[[0.0,\"#0d0887\"],[0.1111111111111111,\"#46039f\"],[0.2222222222222222,\"#7201a8\"],[0.3333333333333333,\"#9c179e\"],[0.4444444444444444,\"#bd3786\"],[0.5555555555555556,\"#d8576b\"],[0.6666666666666666,\"#ed7953\"],[0.7777777777777778,\"#fb9f3a\"],[0.8888888888888888,\"#fdca26\"],[1.0,\"#f0f921\"]],\"sequentialminus\":[[0.0,\"#0d0887\"],[0.1111111111111111,\"#46039f\"],[0.2222222222222222,\"#7201a8\"],[0.3333333333333333,\"#9c179e\"],[0.4444444444444444,\"#bd3786\"],[0.5555555555555556,\"#d8576b\"],[0.6666666666666666,\"#ed7953\"],[0.7777777777777778,\"#fb9f3a\"],[0.8888888888888888,\"#fdca26\"],[1.0,\"#f0f921\"]],\"diverging\":[[0,\"#8e0152\"],[0.1,\"#c51b7d\"],[0.2,\"#de77ae\"],[0.3,\"#f1b6da\"],[0.4,\"#fde0ef\"],[0.5,\"#f7f7f7\"],[0.6,\"#e6f5d0\"],[0.7,\"#b8e186\"],[0.8,\"#7fbc41\"],[0.9,\"#4d9221\"],[1,\"#276419\"]]},\"xaxis\":{\"gridcolor\":\"white\",\"linecolor\":\"white\",\"ticks\":\"\",\"title\":{\"standoff\":15},\"zerolinecolor\":\"white\",\"automargin\":true,\"zerolinewidth\":2},\"yaxis\":{\"gridcolor\":\"white\",\"linecolor\":\"white\",\"ticks\":\"\",\"title\":{\"standoff\":15},\"zerolinecolor\":\"white\",\"automargin\":true,\"zerolinewidth\":2},\"scene\":{\"xaxis\":{\"backgroundcolor\":\"#E5ECF6\",\"gridcolor\":\"white\",\"linecolor\":\"white\",\"showbackground\":true,\"ticks\":\"\",\"zerolinecolor\":\"white\",\"gridwidth\":2},\"yaxis\":{\"backgroundcolor\":\"#E5ECF6\",\"gridcolor\":\"white\",\"linecolor\":\"white\",\"showbackground\":true,\"ticks\":\"\",\"zerolinecolor\":\"white\",\"gridwidth\":2},\"zaxis\":{\"backgroundcolor\":\"#E5ECF6\",\"gridcolor\":\"white\",\"linecolor\":\"white\",\"showbackground\":true,\"ticks\":\"\",\"zerolinecolor\":\"white\",\"gridwidth\":2}},\"shapedefaults\":{\"line\":{\"color\":\"#2a3f5f\"}},\"annotationdefaults\":{\"arrowcolor\":\"#2a3f5f\",\"arrowhead\":0,\"arrowwidth\":1},\"geo\":{\"bgcolor\":\"white\",\"landcolor\":\"#E5ECF6\",\"subunitcolor\":\"white\",\"showland\":true,\"showlakes\":true,\"lakecolor\":\"white\"},\"title\":{\"x\":0.05},\"mapbox\":{\"style\":\"light\"}}},\"height\":200},                        {\"responsive\": true}                    ).then(function(){\n",
              "                            \n",
              "var gd = document.getElementById('2b609d26-3944-4c57-a47c-e3d08473f645');\n",
              "var x = new MutationObserver(function (mutations, observer) {{\n",
              "        var display = window.getComputedStyle(gd).display;\n",
              "        if (!display || display === 'none') {{\n",
              "            console.log([gd, 'removed!']);\n",
              "            Plotly.purge(gd);\n",
              "            observer.disconnect();\n",
              "        }}\n",
              "}});\n",
              "\n",
              "// Listen for the removal of the full notebook cells\n",
              "var notebookContainer = gd.closest('#notebook-container');\n",
              "if (notebookContainer) {{\n",
              "    x.observe(notebookContainer, {childList: true});\n",
              "}}\n",
              "\n",
              "// Listen for the clearing of the current output cell\n",
              "var outputEl = gd.closest('.output');\n",
              "if (outputEl) {{\n",
              "    x.observe(outputEl, {childList: true});\n",
              "}}\n",
              "\n",
              "                        })                };                            </script>        </div>\n",
              "</body>\n",
              "</html>"
            ]
          },
          "metadata": {}
        }
      ]
    },
    {
      "cell_type": "code",
      "source": [
        "# predictions_df.head(10)"
      ],
      "metadata": {
        "id": "T07oAB6rIZn-"
      },
      "execution_count": null,
      "outputs": []
    },
    {
      "cell_type": "markdown",
      "source": [
        "## Visualization\n",
        "\n",
        "**Visualize the actual and forecasted values using Plotly.**\n",
        "\n",
        "P10 and P90 represent the probability distribution boundaries. There is a 10% probability that the actual value will be above the upper line (P10), and a 90% probability that the actual value will be above the lower line (P90)."
      ],
      "metadata": {
        "id": "ck1RfXo5jnOh"
      }
    },
    {
      "cell_type": "code",
      "source": [
        "# Visualization\n",
        "fig = px.line(combined_df, x='timestamp', y='target', color='type', title='Time Series Forecast with AutoGluon')\n",
        "\n",
        "fig.add_scatter(x=predictions_df['timestamp'], y=predictions_df['q0.1'], mode='lines', name='P 10', line=dict(color='green', width=1))\n",
        "fig.add_scatter(x=predictions_df['timestamp'], y=predictions_df['q0.9'], mode='lines', name='P 90', line=dict(color='black', width=1))\n",
        "\n",
        "fig.add_traces(go.Scatter(\n",
        "    x=list(predictions_df['timestamp']) + list(predictions_df['timestamp'][::-1]),\n",
        "    y=list(predictions_df['q0.1']) + list(predictions_df['q0.9'][::-1]),\n",
        "    fill='toself',\n",
        "    fillcolor='rgba(0,100,80,0.2)',\n",
        "    line=dict(color='rgba(255,255,255,0)'),\n",
        "    showlegend=False,\n",
        "    name='Confidence Interval'))\n",
        "\n",
        "fig.update_xaxes(rangeslider_visible=True)\n",
        "\n",
        "# Update layout to ensure visibility of all components\n",
        "fig.update_layout(\n",
        "    title='Time Series Forecast with AutoGluon',\n",
        "    xaxis_title='Date',\n",
        "    yaxis_title='Price',\n",
        "    legend_title='Legend',\n",
        "    xaxis_range=['2006','2028']\n",
        ")\n",
        "fig.show()"
      ],
      "metadata": {
        "colab": {
          "base_uri": "https://localhost:8080/",
          "height": 542
        },
        "id": "OGP8v_AJ5kyy",
        "outputId": "05742aca-97ff-47f8-b1fe-008435eff050"
      },
      "execution_count": null,
      "outputs": [
        {
          "output_type": "display_data",
          "data": {
            "text/html": [
              "<html>\n",
              "<head><meta charset=\"utf-8\" /></head>\n",
              "<body>\n",
              "    <div>            <script src=\"https://cdnjs.cloudflare.com/ajax/libs/mathjax/2.7.5/MathJax.js?config=TeX-AMS-MML_SVG\"></script><script type=\"text/javascript\">if (window.MathJax && window.MathJax.Hub && window.MathJax.Hub.Config) {window.MathJax.Hub.Config({SVG: {font: \"STIX-Web\"}});}</script>                <script type=\"text/javascript\">window.PlotlyConfig = {MathJaxConfig: 'local'};</script>\n",
              "        <script charset=\"utf-8\" src=\"https://cdn.plot.ly/plotly-2.24.1.min.js\"></script>                <div id=\"98caade5-729d-43e4-a924-176995f01d16\" class=\"plotly-graph-div\" style=\"height:525px; width:100%;\"></div>            <script type=\"text/javascript\">                                    window.PLOTLYENV=window.PLOTLYENV || {};                                    if (document.getElementById(\"98caade5-729d-43e4-a924-176995f01d16\")) {                    Plotly.newPlot(                        \"98caade5-729d-43e4-a924-176995f01d16\",                        [{\"hovertemplate\":\"type=actual\\u003cbr\\u003etimestamp=%{x}\\u003cbr\\u003etarget=%{y}\\u003cextra\\u003e\\u003c\\u002fextra\\u003e\",\"legendgroup\":\"actual\",\"line\":{\"color\":\"#636efa\",\"dash\":\"solid\"},\"marker\":{\"symbol\":\"circle\"},\"mode\":\"lines\",\"name\":\"actual\",\"orientation\":\"v\",\"showlegend\":true,\"x\":[\"2007-04-01T00:00:00\",\"2007-05-01T00:00:00\",\"2007-06-01T00:00:00\",\"2007-07-01T00:00:00\",\"2007-08-01T00:00:00\",\"2007-09-01T00:00:00\",\"2007-10-01T00:00:00\",\"2007-11-01T00:00:00\",\"2007-12-01T00:00:00\",\"2008-01-01T00:00:00\",\"2008-02-01T00:00:00\",\"2008-03-01T00:00:00\",\"2008-04-01T00:00:00\",\"2008-05-01T00:00:00\",\"2008-06-01T00:00:00\",\"2008-07-01T00:00:00\",\"2008-08-01T00:00:00\",\"2008-09-01T00:00:00\",\"2008-10-01T00:00:00\",\"2008-11-01T00:00:00\",\"2008-12-01T00:00:00\",\"2009-01-01T00:00:00\",\"2009-02-01T00:00:00\",\"2009-03-01T00:00:00\",\"2009-04-01T00:00:00\",\"2009-05-01T00:00:00\",\"2009-06-01T00:00:00\",\"2009-07-01T00:00:00\",\"2009-08-01T00:00:00\",\"2009-09-01T00:00:00\",\"2009-10-01T00:00:00\",\"2009-11-01T00:00:00\",\"2009-12-01T00:00:00\",\"2010-01-01T00:00:00\",\"2010-02-01T00:00:00\",\"2010-03-01T00:00:00\",\"2010-04-01T00:00:00\",\"2010-05-01T00:00:00\",\"2010-06-01T00:00:00\",\"2010-07-01T00:00:00\",\"2010-08-01T00:00:00\",\"2010-09-01T00:00:00\",\"2010-10-01T00:00:00\",\"2010-11-01T00:00:00\",\"2010-12-01T00:00:00\",\"2011-01-01T00:00:00\",\"2011-02-01T00:00:00\",\"2011-03-01T00:00:00\",\"2011-04-01T00:00:00\",\"2011-05-01T00:00:00\",\"2011-06-01T00:00:00\",\"2011-07-01T00:00:00\",\"2011-08-01T00:00:00\",\"2011-09-01T00:00:00\",\"2011-10-01T00:00:00\",\"2011-11-01T00:00:00\",\"2011-12-01T00:00:00\",\"2012-01-01T00:00:00\",\"2012-02-01T00:00:00\",\"2012-03-01T00:00:00\",\"2012-04-01T00:00:00\",\"2012-05-01T00:00:00\",\"2012-06-01T00:00:00\",\"2012-07-01T00:00:00\",\"2012-08-01T00:00:00\",\"2012-09-01T00:00:00\",\"2012-10-01T00:00:00\",\"2012-11-01T00:00:00\",\"2012-12-01T00:00:00\",\"2013-01-01T00:00:00\",\"2013-02-01T00:00:00\",\"2013-03-01T00:00:00\",\"2013-04-01T00:00:00\",\"2013-05-01T00:00:00\",\"2013-06-01T00:00:00\",\"2013-07-01T00:00:00\",\"2013-08-01T00:00:00\",\"2013-09-01T00:00:00\",\"2013-10-01T00:00:00\",\"2013-11-01T00:00:00\",\"2013-12-01T00:00:00\",\"2014-01-01T00:00:00\",\"2014-02-01T00:00:00\",\"2014-03-01T00:00:00\",\"2014-04-01T00:00:00\",\"2014-05-01T00:00:00\",\"2014-06-01T00:00:00\",\"2014-07-01T00:00:00\",\"2014-08-01T00:00:00\",\"2014-09-01T00:00:00\",\"2014-10-01T00:00:00\",\"2014-11-01T00:00:00\",\"2014-12-01T00:00:00\",\"2015-01-01T00:00:00\",\"2015-02-01T00:00:00\",\"2015-03-01T00:00:00\",\"2015-04-01T00:00:00\",\"2015-05-01T00:00:00\",\"2015-06-01T00:00:00\",\"2015-07-01T00:00:00\",\"2015-08-01T00:00:00\",\"2015-09-01T00:00:00\",\"2015-10-01T00:00:00\",\"2015-11-01T00:00:00\",\"2015-12-01T00:00:00\",\"2016-01-01T00:00:00\",\"2016-02-01T00:00:00\",\"2016-03-01T00:00:00\",\"2016-04-01T00:00:00\",\"2016-05-01T00:00:00\",\"2016-06-01T00:00:00\",\"2016-07-01T00:00:00\",\"2016-08-01T00:00:00\",\"2016-09-01T00:00:00\",\"2016-10-01T00:00:00\",\"2016-11-01T00:00:00\",\"2016-12-01T00:00:00\",\"2017-01-01T00:00:00\",\"2017-02-01T00:00:00\",\"2017-03-01T00:00:00\",\"2017-04-01T00:00:00\",\"2017-05-01T00:00:00\",\"2017-06-01T00:00:00\",\"2017-07-01T00:00:00\",\"2017-08-01T00:00:00\",\"2017-09-01T00:00:00\",\"2017-10-01T00:00:00\",\"2017-11-01T00:00:00\",\"2017-12-01T00:00:00\",\"2018-01-01T00:00:00\",\"2018-02-01T00:00:00\",\"2018-03-01T00:00:00\",\"2018-04-01T00:00:00\",\"2018-05-01T00:00:00\",\"2018-06-01T00:00:00\",\"2018-07-01T00:00:00\",\"2018-08-01T00:00:00\",\"2018-09-01T00:00:00\",\"2018-10-01T00:00:00\",\"2018-11-01T00:00:00\",\"2018-12-01T00:00:00\",\"2019-01-01T00:00:00\",\"2019-02-01T00:00:00\",\"2019-03-01T00:00:00\",\"2019-04-01T00:00:00\",\"2019-05-01T00:00:00\",\"2019-06-01T00:00:00\",\"2019-07-01T00:00:00\",\"2019-08-01T00:00:00\",\"2019-09-01T00:00:00\",\"2019-10-01T00:00:00\",\"2019-11-01T00:00:00\",\"2019-12-01T00:00:00\",\"2020-01-01T00:00:00\",\"2020-02-01T00:00:00\",\"2020-03-01T00:00:00\",\"2020-04-01T00:00:00\",\"2020-05-01T00:00:00\",\"2020-06-01T00:00:00\",\"2020-07-01T00:00:00\",\"2020-08-01T00:00:00\",\"2020-09-01T00:00:00\",\"2020-10-01T00:00:00\",\"2020-11-01T00:00:00\",\"2020-12-01T00:00:00\",\"2021-01-01T00:00:00\",\"2021-02-01T00:00:00\",\"2021-03-01T00:00:00\",\"2021-04-01T00:00:00\",\"2021-05-01T00:00:00\",\"2021-06-01T00:00:00\",\"2021-07-01T00:00:00\",\"2021-08-01T00:00:00\",\"2021-09-01T00:00:00\",\"2021-10-01T00:00:00\",\"2021-11-01T00:00:00\",\"2021-12-01T00:00:00\",\"2022-01-01T00:00:00\",\"2022-02-01T00:00:00\",\"2022-03-01T00:00:00\",\"2022-04-01T00:00:00\",\"2022-05-01T00:00:00\",\"2022-06-01T00:00:00\",\"2022-07-01T00:00:00\",\"2022-08-01T00:00:00\",\"2022-09-01T00:00:00\",\"2022-10-01T00:00:00\",\"2022-11-01T00:00:00\",\"2022-12-01T00:00:00\",\"2023-01-01T00:00:00\",\"2023-02-01T00:00:00\",\"2023-03-01T00:00:00\",\"2023-04-01T00:00:00\",\"2023-05-01T00:00:00\",\"2023-06-01T00:00:00\",\"2023-07-01T00:00:00\",\"2023-08-01T00:00:00\",\"2023-09-01T00:00:00\",\"2023-10-01T00:00:00\",\"2023-11-01T00:00:00\",\"2023-12-01T00:00:00\",\"2024-01-01T00:00:00\",\"2024-02-01T00:00:00\",\"2024-03-01T00:00:00\",\"2024-04-01T00:00:00\",\"2024-05-01T00:00:00\",\"2024-06-01T00:00:00\"],\"xaxis\":\"x\",\"y\":[91.0,102.0,103.0,106.0,122.0,149.0,168.0,195.0,190.0,193.0,186.0,197.0,196.0,193.0,184.0,181.0,179.0,140.0,89.0,65.0,70.0,72.51,75.59,64.07,59.78,62.69,71.66,83.95,97.67,80.71,86.79,99.26,105.25,125.91,127.62,139.77,172.47,161.35,143.63,126.36,145.34,140.63,148.48,160.55,168.53,179.63,187.18,169.36,179.26,177.1,170.88,172.98,177.45,177.23,150.43,135.54,136.46,140.35,140.4,144.66,147.65,136.27,134.62,127.94,107.8,99.47,113.95,120.35,128.87,150.49,154.64,139.87,137.39,124.01,114.82,127.19,137.06,134.19,132.57,136.32,135.79,128.12,121.37,111.83,114.58,100.56,92.85,96.26,94.14,84.52,81.3,74.43,68.67,69.07,63.8,58.18,52.11,60.43,61.84,52.17,57.33,56.98,53.66,47.19,40.88,42.2,46.49,56.54,60.97,55.89,52.34,57.31,60.87,57.66,58.95,74.14,79.43,80.82,88.95,87.2,70.4,61.63,57.86,66.74,74.59,69.24,61.05,63.41,71.74,75.78,77.65,71.32,66.33,66.63,66.86,67.05,68.02,68.8,72.02,72.3,68.9,75.2,87.59,87.07,94.5,101.76,109.55,119.59,93.5,92.26,88.59,82.9,90.98,95.22,87.63,88.66,83.75,91.33,103.34,108.02,120.07,123.0,119.25,123.52,153.07,166.74,162.33,166.74,178.25,202.86,215.82,214.34,162.09,113.72,114.48,90.13,110.46,133.05,139.7,147.35,146.67,131.09,131.05,109.05,109.07,100.84,94.62,94.57,111.41,122.43,127.08,127.98,117.13,104.52,113.09,113.98,109.61,120.43,118.75,131.25,137.55,136.5869565,125.9285714,110.1904762,112.2272727,119.2391304,108.1],\"yaxis\":\"y\",\"type\":\"scatter\"},{\"hovertemplate\":\"type=forecast\\u003cbr\\u003etimestamp=%{x}\\u003cbr\\u003etarget=%{y}\\u003cextra\\u003e\\u003c\\u002fextra\\u003e\",\"legendgroup\":\"forecast\",\"line\":{\"color\":\"#EF553B\",\"dash\":\"solid\"},\"marker\":{\"symbol\":\"circle\"},\"mode\":\"lines\",\"name\":\"forecast\",\"orientation\":\"v\",\"showlegend\":true,\"x\":[\"2024-07-01T00:00:00\",\"2024-08-01T00:00:00\",\"2024-09-01T00:00:00\",\"2024-10-01T00:00:00\",\"2024-11-01T00:00:00\",\"2024-12-01T00:00:00\",\"2025-01-01T00:00:00\",\"2025-02-01T00:00:00\",\"2025-03-01T00:00:00\",\"2025-04-01T00:00:00\",\"2025-05-01T00:00:00\",\"2025-06-01T00:00:00\",\"2025-07-01T00:00:00\",\"2025-08-01T00:00:00\",\"2025-09-01T00:00:00\",\"2025-10-01T00:00:00\",\"2025-11-01T00:00:00\",\"2025-12-01T00:00:00\",\"2026-01-01T00:00:00\",\"2026-02-01T00:00:00\",\"2026-03-01T00:00:00\",\"2026-04-01T00:00:00\",\"2026-05-01T00:00:00\",\"2026-06-01T00:00:00\",\"2026-07-01T00:00:00\",\"2026-08-01T00:00:00\",\"2026-09-01T00:00:00\",\"2026-10-01T00:00:00\",\"2026-11-01T00:00:00\",\"2026-12-01T00:00:00\",\"2027-01-01T00:00:00\",\"2027-02-01T00:00:00\",\"2027-03-01T00:00:00\",\"2027-04-01T00:00:00\",\"2027-05-01T00:00:00\",\"2027-06-01T00:00:00\"],\"xaxis\":\"x\",\"y\":[106.38857533069367,99.29373968408464,96.22930307591216,89.01963229889566,87.02944925998119,81.45447459119431,77.59289270766237,75.53224011684986,72.27276992797852,70.07825790567601,68.95767236263194,65.27250492826421,65.33106014576364,63.15808726371603,61.69656934129431,63.06167651237325,61.7719540697463,66.19349729253891,66.50240500429844,64.86204902161944,65.62618411855495,66.7893502458613,66.36364007503428,69.88548540561757,71.69924088741871,70.38320115272035,74.4016281696076,73.71087001232391,78.10989724828842,80.00315735187937,80.62994806817238,80.85741866903102,80.77303845831688,81.43594847334192,80.23526309398895,79.71236513016072],\"yaxis\":\"y\",\"type\":\"scatter\"},{\"line\":{\"color\":\"green\",\"width\":1},\"mode\":\"lines\",\"name\":\"P 10\",\"x\":[\"2024-07-01T00:00:00\",\"2024-08-01T00:00:00\",\"2024-09-01T00:00:00\",\"2024-10-01T00:00:00\",\"2024-11-01T00:00:00\",\"2024-12-01T00:00:00\",\"2025-01-01T00:00:00\",\"2025-02-01T00:00:00\",\"2025-03-01T00:00:00\",\"2025-04-01T00:00:00\",\"2025-05-01T00:00:00\",\"2025-06-01T00:00:00\",\"2025-07-01T00:00:00\",\"2025-08-01T00:00:00\",\"2025-09-01T00:00:00\",\"2025-10-01T00:00:00\",\"2025-11-01T00:00:00\",\"2025-12-01T00:00:00\",\"2026-01-01T00:00:00\",\"2026-02-01T00:00:00\",\"2026-03-01T00:00:00\",\"2026-04-01T00:00:00\",\"2026-05-01T00:00:00\",\"2026-06-01T00:00:00\",\"2026-07-01T00:00:00\",\"2026-08-01T00:00:00\",\"2026-09-01T00:00:00\",\"2026-10-01T00:00:00\",\"2026-11-01T00:00:00\",\"2026-12-01T00:00:00\",\"2027-01-01T00:00:00\",\"2027-02-01T00:00:00\",\"2027-03-01T00:00:00\",\"2027-04-01T00:00:00\",\"2027-05-01T00:00:00\",\"2027-06-01T00:00:00\"],\"y\":[86.03310447043562,77.11715119544496,70.22518577575684,64.45280255662635,60.73516357908858,56.20374520484438,46.7949719489889,45.423275269853306,41.96123101660546,36.7930664792974,35.26750728931833,33.422788542889535,20.283020244760714,31.070958249112394,29.144733755639265,27.164195708011064,27.015538408401166,26.167353906022747,28.42977731582966,27.403679839600912,26.485509726341736,28.930334977900735,31.583038131226886,30.937514104234413,34.96228040329954,29.104434054963136,35.762797118247825,33.31969561475389,37.69949145317078,40.699463062083474,40.44862784933537,38.73656533322436,37.28192455058402,40.69458240752525,37.14829691521665,30.839391785099153],\"type\":\"scatter\"},{\"line\":{\"color\":\"black\",\"width\":1},\"mode\":\"lines\",\"name\":\"P 90\",\"x\":[\"2024-07-01T00:00:00\",\"2024-08-01T00:00:00\",\"2024-09-01T00:00:00\",\"2024-10-01T00:00:00\",\"2024-11-01T00:00:00\",\"2024-12-01T00:00:00\",\"2025-01-01T00:00:00\",\"2025-02-01T00:00:00\",\"2025-03-01T00:00:00\",\"2025-04-01T00:00:00\",\"2025-05-01T00:00:00\",\"2025-06-01T00:00:00\",\"2025-07-01T00:00:00\",\"2025-08-01T00:00:00\",\"2025-09-01T00:00:00\",\"2025-10-01T00:00:00\",\"2025-11-01T00:00:00\",\"2025-12-01T00:00:00\",\"2026-01-01T00:00:00\",\"2026-02-01T00:00:00\",\"2026-03-01T00:00:00\",\"2026-04-01T00:00:00\",\"2026-05-01T00:00:00\",\"2026-06-01T00:00:00\",\"2026-07-01T00:00:00\",\"2026-08-01T00:00:00\",\"2026-09-01T00:00:00\",\"2026-10-01T00:00:00\",\"2026-11-01T00:00:00\",\"2026-12-01T00:00:00\",\"2027-01-01T00:00:00\",\"2027-02-01T00:00:00\",\"2027-03-01T00:00:00\",\"2027-04-01T00:00:00\",\"2027-05-01T00:00:00\",\"2027-06-01T00:00:00\"],\"y\":[129.482749468215,120.62406715230739,120.54882747568983,112.93798719365546,112.47437025029609,108.72953636494088,103.56702680384859,105.88291164154703,102.25145719812271,100.91277160644532,97.12585519019592,98.15723709755756,95.62214950399195,94.79433993887393,95.35759284648489,96.75275568860641,97.36981832626017,99.2592849487954,103.05164187005226,100.43168436415652,106.29529746035311,108.01666659091381,107.55219653515105,111.52728700840726,110.5430540368912,110.54180361159305,112.81851701127721,116.62293467420213,118.98980640654868,118.10386415846804,119.17903701295245,123.55082573586321,119.98034744262695,123.68639774728328,123.0995096571902,121.71234431165328],\"type\":\"scatter\"},{\"fill\":\"toself\",\"fillcolor\":\"rgba(0,100,80,0.2)\",\"line\":{\"color\":\"rgba(255,255,255,0)\"},\"name\":\"Confidence Interval\",\"showlegend\":false,\"x\":[\"2024-07-01T00:00:00\",\"2024-08-01T00:00:00\",\"2024-09-01T00:00:00\",\"2024-10-01T00:00:00\",\"2024-11-01T00:00:00\",\"2024-12-01T00:00:00\",\"2025-01-01T00:00:00\",\"2025-02-01T00:00:00\",\"2025-03-01T00:00:00\",\"2025-04-01T00:00:00\",\"2025-05-01T00:00:00\",\"2025-06-01T00:00:00\",\"2025-07-01T00:00:00\",\"2025-08-01T00:00:00\",\"2025-09-01T00:00:00\",\"2025-10-01T00:00:00\",\"2025-11-01T00:00:00\",\"2025-12-01T00:00:00\",\"2026-01-01T00:00:00\",\"2026-02-01T00:00:00\",\"2026-03-01T00:00:00\",\"2026-04-01T00:00:00\",\"2026-05-01T00:00:00\",\"2026-06-01T00:00:00\",\"2026-07-01T00:00:00\",\"2026-08-01T00:00:00\",\"2026-09-01T00:00:00\",\"2026-10-01T00:00:00\",\"2026-11-01T00:00:00\",\"2026-12-01T00:00:00\",\"2027-01-01T00:00:00\",\"2027-02-01T00:00:00\",\"2027-03-01T00:00:00\",\"2027-04-01T00:00:00\",\"2027-05-01T00:00:00\",\"2027-06-01T00:00:00\",\"2027-06-01T00:00:00\",\"2027-05-01T00:00:00\",\"2027-04-01T00:00:00\",\"2027-03-01T00:00:00\",\"2027-02-01T00:00:00\",\"2027-01-01T00:00:00\",\"2026-12-01T00:00:00\",\"2026-11-01T00:00:00\",\"2026-10-01T00:00:00\",\"2026-09-01T00:00:00\",\"2026-08-01T00:00:00\",\"2026-07-01T00:00:00\",\"2026-06-01T00:00:00\",\"2026-05-01T00:00:00\",\"2026-04-01T00:00:00\",\"2026-03-01T00:00:00\",\"2026-02-01T00:00:00\",\"2026-01-01T00:00:00\",\"2025-12-01T00:00:00\",\"2025-11-01T00:00:00\",\"2025-10-01T00:00:00\",\"2025-09-01T00:00:00\",\"2025-08-01T00:00:00\",\"2025-07-01T00:00:00\",\"2025-06-01T00:00:00\",\"2025-05-01T00:00:00\",\"2025-04-01T00:00:00\",\"2025-03-01T00:00:00\",\"2025-02-01T00:00:00\",\"2025-01-01T00:00:00\",\"2024-12-01T00:00:00\",\"2024-11-01T00:00:00\",\"2024-10-01T00:00:00\",\"2024-09-01T00:00:00\",\"2024-08-01T00:00:00\",\"2024-07-01T00:00:00\"],\"y\":[86.03310447043562,77.11715119544496,70.22518577575684,64.45280255662635,60.73516357908858,56.20374520484438,46.7949719489889,45.423275269853306,41.96123101660546,36.7930664792974,35.26750728931833,33.422788542889535,20.283020244760714,31.070958249112394,29.144733755639265,27.164195708011064,27.015538408401166,26.167353906022747,28.42977731582966,27.403679839600912,26.485509726341736,28.930334977900735,31.583038131226886,30.937514104234413,34.96228040329954,29.104434054963136,35.762797118247825,33.31969561475389,37.69949145317078,40.699463062083474,40.44862784933537,38.73656533322436,37.28192455058402,40.69458240752525,37.14829691521665,30.839391785099153,121.71234431165328,123.0995096571902,123.68639774728328,119.98034744262695,123.55082573586321,119.17903701295245,118.10386415846804,118.98980640654868,116.62293467420213,112.81851701127721,110.54180361159305,110.5430540368912,111.52728700840726,107.55219653515105,108.01666659091381,106.29529746035311,100.43168436415652,103.05164187005226,99.2592849487954,97.36981832626017,96.75275568860641,95.35759284648489,94.79433993887393,95.62214950399195,98.15723709755756,97.12585519019592,100.91277160644532,102.25145719812271,105.88291164154703,103.56702680384859,108.72953636494088,112.47437025029609,112.93798719365546,120.54882747568983,120.62406715230739,129.482749468215],\"type\":\"scatter\"}],                        {\"template\":{\"data\":{\"histogram2dcontour\":[{\"type\":\"histogram2dcontour\",\"colorbar\":{\"outlinewidth\":0,\"ticks\":\"\"},\"colorscale\":[[0.0,\"#0d0887\"],[0.1111111111111111,\"#46039f\"],[0.2222222222222222,\"#7201a8\"],[0.3333333333333333,\"#9c179e\"],[0.4444444444444444,\"#bd3786\"],[0.5555555555555556,\"#d8576b\"],[0.6666666666666666,\"#ed7953\"],[0.7777777777777778,\"#fb9f3a\"],[0.8888888888888888,\"#fdca26\"],[1.0,\"#f0f921\"]]}],\"choropleth\":[{\"type\":\"choropleth\",\"colorbar\":{\"outlinewidth\":0,\"ticks\":\"\"}}],\"histogram2d\":[{\"type\":\"histogram2d\",\"colorbar\":{\"outlinewidth\":0,\"ticks\":\"\"},\"colorscale\":[[0.0,\"#0d0887\"],[0.1111111111111111,\"#46039f\"],[0.2222222222222222,\"#7201a8\"],[0.3333333333333333,\"#9c179e\"],[0.4444444444444444,\"#bd3786\"],[0.5555555555555556,\"#d8576b\"],[0.6666666666666666,\"#ed7953\"],[0.7777777777777778,\"#fb9f3a\"],[0.8888888888888888,\"#fdca26\"],[1.0,\"#f0f921\"]]}],\"heatmap\":[{\"type\":\"heatmap\",\"colorbar\":{\"outlinewidth\":0,\"ticks\":\"\"},\"colorscale\":[[0.0,\"#0d0887\"],[0.1111111111111111,\"#46039f\"],[0.2222222222222222,\"#7201a8\"],[0.3333333333333333,\"#9c179e\"],[0.4444444444444444,\"#bd3786\"],[0.5555555555555556,\"#d8576b\"],[0.6666666666666666,\"#ed7953\"],[0.7777777777777778,\"#fb9f3a\"],[0.8888888888888888,\"#fdca26\"],[1.0,\"#f0f921\"]]}],\"heatmapgl\":[{\"type\":\"heatmapgl\",\"colorbar\":{\"outlinewidth\":0,\"ticks\":\"\"},\"colorscale\":[[0.0,\"#0d0887\"],[0.1111111111111111,\"#46039f\"],[0.2222222222222222,\"#7201a8\"],[0.3333333333333333,\"#9c179e\"],[0.4444444444444444,\"#bd3786\"],[0.5555555555555556,\"#d8576b\"],[0.6666666666666666,\"#ed7953\"],[0.7777777777777778,\"#fb9f3a\"],[0.8888888888888888,\"#fdca26\"],[1.0,\"#f0f921\"]]}],\"contourcarpet\":[{\"type\":\"contourcarpet\",\"colorbar\":{\"outlinewidth\":0,\"ticks\":\"\"}}],\"contour\":[{\"type\":\"contour\",\"colorbar\":{\"outlinewidth\":0,\"ticks\":\"\"},\"colorscale\":[[0.0,\"#0d0887\"],[0.1111111111111111,\"#46039f\"],[0.2222222222222222,\"#7201a8\"],[0.3333333333333333,\"#9c179e\"],[0.4444444444444444,\"#bd3786\"],[0.5555555555555556,\"#d8576b\"],[0.6666666666666666,\"#ed7953\"],[0.7777777777777778,\"#fb9f3a\"],[0.8888888888888888,\"#fdca26\"],[1.0,\"#f0f921\"]]}],\"surface\":[{\"type\":\"surface\",\"colorbar\":{\"outlinewidth\":0,\"ticks\":\"\"},\"colorscale\":[[0.0,\"#0d0887\"],[0.1111111111111111,\"#46039f\"],[0.2222222222222222,\"#7201a8\"],[0.3333333333333333,\"#9c179e\"],[0.4444444444444444,\"#bd3786\"],[0.5555555555555556,\"#d8576b\"],[0.6666666666666666,\"#ed7953\"],[0.7777777777777778,\"#fb9f3a\"],[0.8888888888888888,\"#fdca26\"],[1.0,\"#f0f921\"]]}],\"mesh3d\":[{\"type\":\"mesh3d\",\"colorbar\":{\"outlinewidth\":0,\"ticks\":\"\"}}],\"scatter\":[{\"fillpattern\":{\"fillmode\":\"overlay\",\"size\":10,\"solidity\":0.2},\"type\":\"scatter\"}],\"parcoords\":[{\"type\":\"parcoords\",\"line\":{\"colorbar\":{\"outlinewidth\":0,\"ticks\":\"\"}}}],\"scatterpolargl\":[{\"type\":\"scatterpolargl\",\"marker\":{\"colorbar\":{\"outlinewidth\":0,\"ticks\":\"\"}}}],\"bar\":[{\"error_x\":{\"color\":\"#2a3f5f\"},\"error_y\":{\"color\":\"#2a3f5f\"},\"marker\":{\"line\":{\"color\":\"#E5ECF6\",\"width\":0.5},\"pattern\":{\"fillmode\":\"overlay\",\"size\":10,\"solidity\":0.2}},\"type\":\"bar\"}],\"scattergeo\":[{\"type\":\"scattergeo\",\"marker\":{\"colorbar\":{\"outlinewidth\":0,\"ticks\":\"\"}}}],\"scatterpolar\":[{\"type\":\"scatterpolar\",\"marker\":{\"colorbar\":{\"outlinewidth\":0,\"ticks\":\"\"}}}],\"histogram\":[{\"marker\":{\"pattern\":{\"fillmode\":\"overlay\",\"size\":10,\"solidity\":0.2}},\"type\":\"histogram\"}],\"scattergl\":[{\"type\":\"scattergl\",\"marker\":{\"colorbar\":{\"outlinewidth\":0,\"ticks\":\"\"}}}],\"scatter3d\":[{\"type\":\"scatter3d\",\"line\":{\"colorbar\":{\"outlinewidth\":0,\"ticks\":\"\"}},\"marker\":{\"colorbar\":{\"outlinewidth\":0,\"ticks\":\"\"}}}],\"scattermapbox\":[{\"type\":\"scattermapbox\",\"marker\":{\"colorbar\":{\"outlinewidth\":0,\"ticks\":\"\"}}}],\"scatterternary\":[{\"type\":\"scatterternary\",\"marker\":{\"colorbar\":{\"outlinewidth\":0,\"ticks\":\"\"}}}],\"scattercarpet\":[{\"type\":\"scattercarpet\",\"marker\":{\"colorbar\":{\"outlinewidth\":0,\"ticks\":\"\"}}}],\"carpet\":[{\"aaxis\":{\"endlinecolor\":\"#2a3f5f\",\"gridcolor\":\"white\",\"linecolor\":\"white\",\"minorgridcolor\":\"white\",\"startlinecolor\":\"#2a3f5f\"},\"baxis\":{\"endlinecolor\":\"#2a3f5f\",\"gridcolor\":\"white\",\"linecolor\":\"white\",\"minorgridcolor\":\"white\",\"startlinecolor\":\"#2a3f5f\"},\"type\":\"carpet\"}],\"table\":[{\"cells\":{\"fill\":{\"color\":\"#EBF0F8\"},\"line\":{\"color\":\"white\"}},\"header\":{\"fill\":{\"color\":\"#C8D4E3\"},\"line\":{\"color\":\"white\"}},\"type\":\"table\"}],\"barpolar\":[{\"marker\":{\"line\":{\"color\":\"#E5ECF6\",\"width\":0.5},\"pattern\":{\"fillmode\":\"overlay\",\"size\":10,\"solidity\":0.2}},\"type\":\"barpolar\"}],\"pie\":[{\"automargin\":true,\"type\":\"pie\"}]},\"layout\":{\"autotypenumbers\":\"strict\",\"colorway\":[\"#636efa\",\"#EF553B\",\"#00cc96\",\"#ab63fa\",\"#FFA15A\",\"#19d3f3\",\"#FF6692\",\"#B6E880\",\"#FF97FF\",\"#FECB52\"],\"font\":{\"color\":\"#2a3f5f\"},\"hovermode\":\"closest\",\"hoverlabel\":{\"align\":\"left\"},\"paper_bgcolor\":\"white\",\"plot_bgcolor\":\"#E5ECF6\",\"polar\":{\"bgcolor\":\"#E5ECF6\",\"angularaxis\":{\"gridcolor\":\"white\",\"linecolor\":\"white\",\"ticks\":\"\"},\"radialaxis\":{\"gridcolor\":\"white\",\"linecolor\":\"white\",\"ticks\":\"\"}},\"ternary\":{\"bgcolor\":\"#E5ECF6\",\"aaxis\":{\"gridcolor\":\"white\",\"linecolor\":\"white\",\"ticks\":\"\"},\"baxis\":{\"gridcolor\":\"white\",\"linecolor\":\"white\",\"ticks\":\"\"},\"caxis\":{\"gridcolor\":\"white\",\"linecolor\":\"white\",\"ticks\":\"\"}},\"coloraxis\":{\"colorbar\":{\"outlinewidth\":0,\"ticks\":\"\"}},\"colorscale\":{\"sequential\":[[0.0,\"#0d0887\"],[0.1111111111111111,\"#46039f\"],[0.2222222222222222,\"#7201a8\"],[0.3333333333333333,\"#9c179e\"],[0.4444444444444444,\"#bd3786\"],[0.5555555555555556,\"#d8576b\"],[0.6666666666666666,\"#ed7953\"],[0.7777777777777778,\"#fb9f3a\"],[0.8888888888888888,\"#fdca26\"],[1.0,\"#f0f921\"]],\"sequentialminus\":[[0.0,\"#0d0887\"],[0.1111111111111111,\"#46039f\"],[0.2222222222222222,\"#7201a8\"],[0.3333333333333333,\"#9c179e\"],[0.4444444444444444,\"#bd3786\"],[0.5555555555555556,\"#d8576b\"],[0.6666666666666666,\"#ed7953\"],[0.7777777777777778,\"#fb9f3a\"],[0.8888888888888888,\"#fdca26\"],[1.0,\"#f0f921\"]],\"diverging\":[[0,\"#8e0152\"],[0.1,\"#c51b7d\"],[0.2,\"#de77ae\"],[0.3,\"#f1b6da\"],[0.4,\"#fde0ef\"],[0.5,\"#f7f7f7\"],[0.6,\"#e6f5d0\"],[0.7,\"#b8e186\"],[0.8,\"#7fbc41\"],[0.9,\"#4d9221\"],[1,\"#276419\"]]},\"xaxis\":{\"gridcolor\":\"white\",\"linecolor\":\"white\",\"ticks\":\"\",\"title\":{\"standoff\":15},\"zerolinecolor\":\"white\",\"automargin\":true,\"zerolinewidth\":2},\"yaxis\":{\"gridcolor\":\"white\",\"linecolor\":\"white\",\"ticks\":\"\",\"title\":{\"standoff\":15},\"zerolinecolor\":\"white\",\"automargin\":true,\"zerolinewidth\":2},\"scene\":{\"xaxis\":{\"backgroundcolor\":\"#E5ECF6\",\"gridcolor\":\"white\",\"linecolor\":\"white\",\"showbackground\":true,\"ticks\":\"\",\"zerolinecolor\":\"white\",\"gridwidth\":2},\"yaxis\":{\"backgroundcolor\":\"#E5ECF6\",\"gridcolor\":\"white\",\"linecolor\":\"white\",\"showbackground\":true,\"ticks\":\"\",\"zerolinecolor\":\"white\",\"gridwidth\":2},\"zaxis\":{\"backgroundcolor\":\"#E5ECF6\",\"gridcolor\":\"white\",\"linecolor\":\"white\",\"showbackground\":true,\"ticks\":\"\",\"zerolinecolor\":\"white\",\"gridwidth\":2}},\"shapedefaults\":{\"line\":{\"color\":\"#2a3f5f\"}},\"annotationdefaults\":{\"arrowcolor\":\"#2a3f5f\",\"arrowhead\":0,\"arrowwidth\":1},\"geo\":{\"bgcolor\":\"white\",\"landcolor\":\"#E5ECF6\",\"subunitcolor\":\"white\",\"showland\":true,\"showlakes\":true,\"lakecolor\":\"white\"},\"title\":{\"x\":0.05},\"mapbox\":{\"style\":\"light\"}}},\"xaxis\":{\"anchor\":\"y\",\"domain\":[0.0,1.0],\"title\":{\"text\":\"Date\"},\"rangeslider\":{\"visible\":true},\"range\":[\"2006\",\"2028\"]},\"yaxis\":{\"anchor\":\"x\",\"domain\":[0.0,1.0],\"title\":{\"text\":\"Price\"}},\"legend\":{\"title\":{\"text\":\"Legend\"},\"tracegroupgap\":0},\"title\":{\"text\":\"Time Series Forecast with AutoGluon\"}},                        {\"responsive\": true}                    ).then(function(){\n",
              "                            \n",
              "var gd = document.getElementById('98caade5-729d-43e4-a924-176995f01d16');\n",
              "var x = new MutationObserver(function (mutations, observer) {{\n",
              "        var display = window.getComputedStyle(gd).display;\n",
              "        if (!display || display === 'none') {{\n",
              "            console.log([gd, 'removed!']);\n",
              "            Plotly.purge(gd);\n",
              "            observer.disconnect();\n",
              "        }}\n",
              "}});\n",
              "\n",
              "// Listen for the removal of the full notebook cells\n",
              "var notebookContainer = gd.closest('#notebook-container');\n",
              "if (notebookContainer) {{\n",
              "    x.observe(notebookContainer, {childList: true});\n",
              "}}\n",
              "\n",
              "// Listen for the clearing of the current output cell\n",
              "var outputEl = gd.closest('.output');\n",
              "if (outputEl) {{\n",
              "    x.observe(outputEl, {childList: true});\n",
              "}}\n",
              "\n",
              "                        })                };                            </script>        </div>\n",
              "</body>\n",
              "</html>"
            ]
          },
          "metadata": {}
        }
      ]
    },
    {
      "cell_type": "code",
      "source": [
        "# Calculate the yearly average of the forecasts\n",
        "predictions_df['year'] = predictions_df['timestamp'].dt.year\n",
        "yearly_avg = predictions_df.groupby('year')['mean'].mean().round(2).reset_index()\n",
        "print(\"Yearly average of the forecasts:\")\n",
        "print(yearly_avg)"
      ],
      "metadata": {
        "id": "Jjtrr6WPX0dj",
        "colab": {
          "base_uri": "https://localhost:8080/"
        },
        "outputId": "c788ab71-4b6d-41d2-8de9-8e9d31398bcc"
      },
      "execution_count": null,
      "outputs": [
        {
          "output_type": "stream",
          "name": "stdout",
          "text": [
            "Yearly average of the forecasts:\n",
            "   year   mean\n",
            "0  2024  93.24\n",
            "1  2025  67.58\n",
            "2  2026  70.69\n",
            "3  2027  80.61\n"
          ]
        }
      ]
    },
    {
      "cell_type": "code",
      "source": [],
      "metadata": {
        "id": "ZQQZWMg2vaqM"
      },
      "execution_count": null,
      "outputs": []
    }
  ]
}